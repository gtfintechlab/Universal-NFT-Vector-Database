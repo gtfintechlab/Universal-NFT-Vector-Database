{
  "nbformat": 4,
  "nbformat_minor": 0,
  "metadata": {
    "colab": {
      "name": "Dimensionality_Reduction_Metrics.ipynb",
      "provenance": []
    },
    "kernelspec": {
      "name": "python3",
      "display_name": "Python 3"
    },
    "language_info": {
      "name": "python"
    }
  },
  "cells": [
    {
      "cell_type": "code",
      "execution_count": null,
      "metadata": {
        "id": "dnMhdS0gzBn5"
      },
      "outputs": [],
      "source": [
        "!pip3 install -U towhee  \n",
        "!pip3 install -U towhee.models\n",
        "!pip install timm==0.5.4\n",
        "!pip install Pillow==8.0.1\n",
        "!pip install -U scikit-learn"
      ]
    },
    {
      "cell_type": "code",
      "source": [
        "# May need to reupload if link is expired\n",
        "!wget https://transfer.sh/get/RUl4ko/dataset.zip\n",
        "!unzip dataset.zip\n",
        "\n",
        "NFT_DATASET_PATH = \"./NFT Metrics Dataset/\""
      ],
      "metadata": {
        "id": "GcJyED0XpwJ2"
      },
      "execution_count": null,
      "outputs": []
    },
    {
      "cell_type": "code",
      "source": [
        "from towhee import pipeline\n",
        "embedding_pipeline = pipeline('towhee/image-embedding-regnety-080')"
      ],
      "metadata": {
        "colab": {
          "base_uri": "https://localhost:8080/"
        },
        "id": "hm9trEGdp3d3",
        "outputId": "ac3a16a7-2b2d-42ed-f075-7f1188ff5ecf"
      },
      "execution_count": 3,
      "outputs": [
        {
          "output_type": "stream",
          "name": "stdout",
          "text": [
            "Cloning the repo: towhee/image-embedding-regnety-080... Be patient and waiting printing 'Successfully'.\n",
            "Successfully clone the repo: towhee/image-embedding-regnety-080.\n",
            "Cloning the repo: towhee/image-decoder... Be patient and waiting printing 'Successfully'.\n",
            "Successfully clone the repo: towhee/image-decoder.\n",
            "Cloning the repo: towhee/timm-image-embedding... Be patient and waiting printing 'Successfully'.\n",
            "Successfully clone the repo: towhee/timm-image-embedding.\n"
          ]
        },
        {
          "output_type": "stream",
          "name": "stderr",
          "text": [
            "Downloading: \"https://github.com/rwightman/pytorch-image-models/releases/download/v0.1-regnet/regnety_080-e7f3eb93.pth\" to /root/.cache/torch/hub/checkpoints/regnety_080-e7f3eb93.pth\n"
          ]
        },
        {
          "output_type": "stream",
          "name": "stdout",
          "text": [
            "[0.29651052 2.7416341  1.9153777  ... 0.47359887 1.5584838  0.6012759 ]\n"
          ]
        }
      ]
    },
    {
      "cell_type": "code",
      "source": [
        "# Within Collection NFTs\n",
        "import numpy as np \n",
        "from scipy import spatial\n",
        "\n",
        "image_embeddings = []\n",
        "within = []\n",
        "for i in range(1, 51):\n",
        "  image_path = NFT_DATASET_PATH + \"Within Collection/\" + str(i) + \".jpg\"\n",
        "  image_embedding = embedding_pipeline(image_path)\n",
        "  within.append(image_embedding)\n"
      ],
      "metadata": {
        "id": "zJuLrM16ybjs"
      },
      "execution_count": 22,
      "outputs": []
    },
    {
      "cell_type": "code",
      "source": [
        "# Outside Collection NFTs\n",
        "outside = []\n",
        "for i in range(1, 51):\n",
        "  image_path = NFT_DATASET_PATH + \"Outside Collection/\" + str(i) + \".jpg\"\n",
        "  image_embedding = embedding_pipeline(image_path)\n",
        "  outside.append(image_embedding)\n",
        "\n",
        "image_embeddings = within + outside\n",
        "print(len(image_embeddings), len(image_embeddings[0]))"
      ],
      "metadata": {
        "colab": {
          "base_uri": "https://localhost:8080/"
        },
        "id": "-GZicdwuywKA",
        "outputId": "36e1564f-5857-4c7f-98ab-942c5a7eb827"
      },
      "execution_count": 23,
      "outputs": [
        {
          "output_type": "stream",
          "name": "stdout",
          "text": [
            "100 2016\n"
          ]
        }
      ]
    },
    {
      "cell_type": "markdown",
      "source": [
        "## Multidimensional Scaling"
      ],
      "metadata": {
        "id": "q81S9Z_TzKK1"
      }
    },
    {
      "cell_type": "code",
      "source": [
        "# Apply Dimensionality Reduction\n",
        "from sklearn.manifold import MDS\n",
        "\n",
        "embedding = MDS(n_components=2, random_state=0)\n",
        "embedding_transformed = embedding.fit_transform(image_embeddings)"
      ],
      "metadata": {
        "id": "U5nJbghPy441"
      },
      "execution_count": 24,
      "outputs": []
    },
    {
      "cell_type": "code",
      "source": [
        "from sklearn.cluster import KMeans\n",
        "kmeans = KMeans(n_clusters=2, random_state=0).fit(embedding_transformed)\n",
        "center_zero, center_one = kmeans.cluster_centers_\n",
        "distance_between_clusters = np.linalg.norm(center_zero-center_one)\n",
        "\n",
        "print(\"Distance Between Cluster Centers: \", distance_between_clusters)"
      ],
      "metadata": {
        "colab": {
          "base_uri": "https://localhost:8080/"
        },
        "id": "0B_5k_gp2bdn",
        "outputId": "191d3680-09ff-43cc-c12c-1223a66e02df"
      },
      "execution_count": 25,
      "outputs": [
        {
          "output_type": "stream",
          "name": "stdout",
          "text": [
            "Distance Between Cluster Centers:  19.375582309283647\n"
          ]
        }
      ]
    },
    {
      "cell_type": "code",
      "source": [
        "totalDistance =  0\n",
        "for vector in embedding_transformed[:51]:\n",
        "  totalDistance += np.linalg.norm(center_zero-vector)\n",
        "\n",
        "averageDistanceOne = totalDistance / 50\n",
        "print(\"Average Distance Between Center 0 & Data Points: \", averageDistanceOne)\n",
        "\n",
        "totalDistance =  0\n",
        "for vector in embedding_transformed[51:]:\n",
        "  totalDistance += np.linalg.norm(center_one-vector)\n",
        "\n",
        "averageDistanceTwo = totalDistance / 50\n",
        "print(\"Average Distance Between Center 1 & Data Points: \", averageDistanceTwo)\n",
        "\n",
        "print(\"Total Average Distance: \", (averageDistanceTwo + averageDistanceOne) / 2)"
      ],
      "metadata": {
        "colab": {
          "base_uri": "https://localhost:8080/"
        },
        "id": "nh6nMbUjGZDt",
        "outputId": "4870a2b3-ff3e-4fd6-ecf1-303c7729de55"
      },
      "execution_count": 30,
      "outputs": [
        {
          "output_type": "stream",
          "name": "stdout",
          "text": [
            "Average Distance Between Center 0 & Data Points:  8.319887464985255\n",
            "Average Distance Between Center 1 & Data Points:  9.336766982170817\n",
            "Total Average Distance:  8.828327223578036\n"
          ]
        }
      ]
    },
    {
      "cell_type": "markdown",
      "source": [
        "## T-Distributed Stochastic Neighbor Embedding"
      ],
      "metadata": {
        "id": "p-YwfAVFIK6g"
      }
    },
    {
      "cell_type": "code",
      "source": [
        "# Apply Dimensionality Reduction\n",
        "from sklearn.manifold import TSNE\n",
        "\n",
        "embedding = TSNE(n_components=2, learning_rate='auto', init='random', perplexity=3, random_state=0)\n",
        "embedding_transformed = embedding.fit_transform(np.array(image_embeddings))"
      ],
      "metadata": {
        "id": "e85SU7QIIWsH"
      },
      "execution_count": 35,
      "outputs": []
    },
    {
      "cell_type": "code",
      "source": [
        "from sklearn.cluster import KMeans\n",
        "kmeans = KMeans(n_clusters=2, random_state=0).fit(embedding_transformed)\n",
        "center_zero, center_one = kmeans.cluster_centers_\n",
        "distance_between_clusters = np.linalg.norm(center_zero-center_one)\n",
        "\n",
        "print(\"Distance Between Cluster Centers: \", distance_between_clusters)"
      ],
      "metadata": {
        "colab": {
          "base_uri": "https://localhost:8080/"
        },
        "id": "tT3XX3A2Io1t",
        "outputId": "d4d296e3-5b26-497d-8700-59b811402d6d"
      },
      "execution_count": 36,
      "outputs": [
        {
          "output_type": "stream",
          "name": "stdout",
          "text": [
            "Distance Between Cluster Centers:  63.543255\n"
          ]
        }
      ]
    },
    {
      "cell_type": "code",
      "source": [
        "totalDistance =  0\n",
        "for vector in embedding_transformed[:51]:\n",
        "  totalDistance += np.linalg.norm(center_zero-vector)\n",
        "\n",
        "averageDistanceOne = totalDistance / 50\n",
        "print(\"Average Distance Between Center 0 & Data Points: \", averageDistanceOne)\n",
        "\n",
        "totalDistance =  0\n",
        "for vector in embedding_transformed[51:]:\n",
        "  totalDistance += np.linalg.norm(center_one-vector)\n",
        "\n",
        "averageDistanceTwo = totalDistance / 50\n",
        "print(\"Average Distance Between Center 1 & Data Points: \", averageDistanceTwo)\n",
        "\n",
        "print(\"Total Average Distance: \", (averageDistanceTwo + averageDistanceOne) / 2)"
      ],
      "metadata": {
        "colab": {
          "base_uri": "https://localhost:8080/"
        },
        "id": "UMMFoDxVJAAb",
        "outputId": "92614775-0526-4a74-a02e-233b82f52fae"
      },
      "execution_count": 37,
      "outputs": [
        {
          "output_type": "stream",
          "name": "stdout",
          "text": [
            "Average Distance Between Center 0 & Data Points:  15.386273522377014\n",
            "Average Distance Between Center 1 & Data Points:  16.18138897418976\n",
            "Total Average Distance:  15.783831248283386\n"
          ]
        }
      ]
    },
    {
      "cell_type": "markdown",
      "source": [
        "## Principal Component Analysis"
      ],
      "metadata": {
        "id": "6VwQqAuWJEI0"
      }
    },
    {
      "cell_type": "code",
      "source": [
        "# Apply Dimensionality Reduction\n",
        "from sklearn.decomposition import PCA\n",
        "\n",
        "embedding = PCA(n_components=2, random_state=0)\n",
        "embedding_transformed = embedding.fit_transform(np.array(image_embeddings))"
      ],
      "metadata": {
        "id": "T6RzpNiRJF9A"
      },
      "execution_count": 38,
      "outputs": []
    },
    {
      "cell_type": "code",
      "source": [
        "from sklearn.cluster import KMeans\n",
        "kmeans = KMeans(n_clusters=2, random_state=0).fit(embedding_transformed)\n",
        "center_zero, center_one = kmeans.cluster_centers_\n",
        "distance_between_clusters = np.linalg.norm(center_zero-center_one)\n",
        "\n",
        "print(\"Distance Between Cluster Centers: \", distance_between_clusters)"
      ],
      "metadata": {
        "colab": {
          "base_uri": "https://localhost:8080/"
        },
        "id": "QcAPuCTfJvA1",
        "outputId": "aa00667d-7a34-4ceb-c586-106615fe2d44"
      },
      "execution_count": 39,
      "outputs": [
        {
          "output_type": "stream",
          "name": "stdout",
          "text": [
            "Distance Between Cluster Centers:  14.613202\n"
          ]
        }
      ]
    },
    {
      "cell_type": "code",
      "source": [
        "totalDistance =  0\n",
        "for vector in embedding_transformed[:51]:\n",
        "  totalDistance += np.linalg.norm(center_zero-vector)\n",
        "\n",
        "averageDistanceOne = totalDistance / 50\n",
        "print(\"Average Distance Between Center 0 & Data Points: \", averageDistanceOne)\n",
        "\n",
        "totalDistance =  0\n",
        "for vector in embedding_transformed[51:]:\n",
        "  totalDistance += np.linalg.norm(center_one-vector)\n",
        "\n",
        "averageDistanceTwo = totalDistance / 50\n",
        "print(\"Average Distance Between Center 1 & Data Points: \", averageDistanceTwo)\n",
        "\n",
        "print(\"Total Average Distance: \", (averageDistanceTwo + averageDistanceOne) / 2)"
      ],
      "metadata": {
        "colab": {
          "base_uri": "https://localhost:8080/"
        },
        "id": "1MaXrFXtJw33",
        "outputId": "3f00acde-dedd-4d97-91fc-3e5c649df8cc"
      },
      "execution_count": 40,
      "outputs": [
        {
          "output_type": "stream",
          "name": "stdout",
          "text": [
            "Average Distance Between Center 0 & Data Points:  2.740553976893425\n",
            "Average Distance Between Center 1 & Data Points:  3.8723896318674087\n",
            "Total Average Distance:  3.3064718043804167\n"
          ]
        }
      ]
    },
    {
      "cell_type": "markdown",
      "source": [
        "## Truncated Singular Value Decomposition"
      ],
      "metadata": {
        "id": "0f2C6AOeJ9LH"
      }
    },
    {
      "cell_type": "code",
      "source": [
        "# Apply Dimensionality Reduction\n",
        "from sklearn.decomposition import TruncatedSVD\n",
        "\n",
        "embedding = TruncatedSVD(n_components=2, n_iter=10, random_state=0)\n",
        "embedding_transformed = embedding.fit_transform(np.array(image_embeddings))"
      ],
      "metadata": {
        "id": "AkA2fbSkKAlV"
      },
      "execution_count": 41,
      "outputs": []
    },
    {
      "cell_type": "code",
      "source": [
        "from sklearn.cluster import KMeans\n",
        "kmeans = KMeans(n_clusters=2, random_state=0).fit(embedding_transformed)\n",
        "center_zero, center_one = kmeans.cluster_centers_\n",
        "distance_between_clusters = np.linalg.norm(center_zero-center_one)\n",
        "\n",
        "print(\"Distance Between Cluster Centers: \", distance_between_clusters)"
      ],
      "metadata": {
        "colab": {
          "base_uri": "https://localhost:8080/"
        },
        "id": "_2WNNMFKKNQa",
        "outputId": "b8a9da32-58b5-40c4-a52b-3e11756839bb"
      },
      "execution_count": 42,
      "outputs": [
        {
          "output_type": "stream",
          "name": "stdout",
          "text": [
            "Distance Between Cluster Centers:  14.615542\n"
          ]
        }
      ]
    },
    {
      "cell_type": "code",
      "source": [
        "totalDistance =  0\n",
        "for vector in embedding_transformed[:51]:\n",
        "  totalDistance += np.linalg.norm(center_zero-vector)\n",
        "\n",
        "averageDistanceOne = totalDistance / 50\n",
        "print(\"Average Distance Between Center 0 & Data Points: \", averageDistanceOne)\n",
        "\n",
        "totalDistance =  0\n",
        "for vector in embedding_transformed[51:]:\n",
        "  totalDistance += np.linalg.norm(center_one-vector)\n",
        "\n",
        "averageDistanceTwo = totalDistance / 50\n",
        "print(\"Average Distance Between Center 1 & Data Points: \", averageDistanceTwo)\n",
        "\n",
        "print(\"Total Average Distance: \", (averageDistanceTwo + averageDistanceOne) / 2)"
      ],
      "metadata": {
        "colab": {
          "base_uri": "https://localhost:8080/"
        },
        "id": "Opu5knxZKOL4",
        "outputId": "e05d3370-a86d-4792-a2fc-0695468a7372"
      },
      "execution_count": 43,
      "outputs": [
        {
          "output_type": "stream",
          "name": "stdout",
          "text": [
            "Average Distance Between Center 0 & Data Points:  2.138845823407173\n",
            "Average Distance Between Center 1 & Data Points:  2.2726835510134697\n",
            "Total Average Distance:  2.2057646872103214\n"
          ]
        }
      ]
    },
    {
      "cell_type": "markdown",
      "source": [
        "## Isometric Mapping"
      ],
      "metadata": {
        "id": "sykZJ5QPKhTY"
      }
    },
    {
      "cell_type": "code",
      "source": [
        "# Apply Dimensionality Reduction\n",
        "from sklearn.manifold import Isomap\n",
        "\n",
        "embedding = Isomap(n_components=2)\n",
        "embedding_transformed = embedding.fit_transform(np.array(image_embeddings))"
      ],
      "metadata": {
        "id": "yQXugv4HKi3m"
      },
      "execution_count": 45,
      "outputs": []
    },
    {
      "cell_type": "code",
      "source": [
        "from sklearn.cluster import KMeans\n",
        "kmeans = KMeans(n_clusters=2, random_state=0).fit(embedding_transformed)\n",
        "center_zero, center_one = kmeans.cluster_centers_\n",
        "distance_between_clusters = np.linalg.norm(center_zero-center_one)\n",
        "\n",
        "print(\"Distance Between Cluster Centers: \", distance_between_clusters)"
      ],
      "metadata": {
        "colab": {
          "base_uri": "https://localhost:8080/"
        },
        "id": "D7kwUq8aKvLm",
        "outputId": "fc1756cc-f778-4e22-da92-f86ddb719944"
      },
      "execution_count": 46,
      "outputs": [
        {
          "output_type": "stream",
          "name": "stdout",
          "text": [
            "Distance Between Cluster Centers:  77.58378964988022\n"
          ]
        }
      ]
    },
    {
      "cell_type": "code",
      "source": [
        "totalDistance =  0\n",
        "for vector in embedding_transformed[:51]:\n",
        "  totalDistance += np.linalg.norm(center_zero-vector)\n",
        "\n",
        "averageDistanceOne = totalDistance / 50\n",
        "print(\"Average Distance Between Center 0 & Data Points: \", averageDistanceOne)\n",
        "\n",
        "totalDistance =  0\n",
        "for vector in embedding_transformed[51:]:\n",
        "  totalDistance += np.linalg.norm(center_one-vector)\n",
        "\n",
        "averageDistanceTwo = totalDistance / 50\n",
        "print(\"Average Distance Between Center 1 & Data Points: \", averageDistanceTwo)\n",
        "\n",
        "print(\"Total Average Distance: \", (averageDistanceTwo + averageDistanceOne) / 2)"
      ],
      "metadata": {
        "colab": {
          "base_uri": "https://localhost:8080/"
        },
        "id": "5RJxLFNYKyX9",
        "outputId": "9c574be5-863f-4610-b67f-fa5a18b5729f"
      },
      "execution_count": 47,
      "outputs": [
        {
          "output_type": "stream",
          "name": "stdout",
          "text": [
            "Average Distance Between Center 0 & Data Points:  9.789704943221441\n",
            "Average Distance Between Center 1 & Data Points:  16.784937860752\n",
            "Total Average Distance:  13.28732140198672\n"
          ]
        }
      ]
    }
  ]
}