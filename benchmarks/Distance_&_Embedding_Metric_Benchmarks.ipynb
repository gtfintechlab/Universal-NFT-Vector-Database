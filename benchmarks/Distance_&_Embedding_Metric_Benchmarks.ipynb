{
  "nbformat": 4,
  "nbformat_minor": 0,
  "metadata": {
    "colab": {
      "name": "Distance & Embedding Metric Benchmarks.ipynb",
      "provenance": [],
      "collapsed_sections": []
    },
    "kernelspec": {
      "name": "python3",
      "display_name": "Python 3"
    },
    "language_info": {
      "name": "python"
    },
    "gpuClass": "standard"
  },
  "cells": [
    {
      "cell_type": "code",
      "execution_count": 1,
      "metadata": {
        "colab": {
          "base_uri": "https://localhost:8080/"
        },
        "id": "Ajab9wgnZJYw",
        "outputId": "a0d8482b-cda1-4e55-b0f7-70f6dd27e544"
      },
      "outputs": [
        {
          "output_type": "stream",
          "name": "stdout",
          "text": [
            "Looking in indexes: https://pypi.org/simple, https://us-python.pkg.dev/colab-wheels/public/simple/\n",
            "Requirement already satisfied: towhee in /usr/local/lib/python3.7/dist-packages (0.8.0)\n",
            "Requirement already satisfied: pygit2 in /usr/local/lib/python3.7/dist-packages (from towhee) (1.10.0)\n",
            "Requirement already satisfied: requests>=2.12.5 in /usr/local/lib/python3.7/dist-packages (from towhee) (2.23.0)\n",
            "Requirement already satisfied: tabulate in /usr/local/lib/python3.7/dist-packages (from towhee) (0.8.10)\n",
            "Requirement already satisfied: tqdm>=4.59.0 in /usr/local/lib/python3.7/dist-packages (from towhee) (4.64.0)\n",
            "Requirement already satisfied: pgzip in /usr/local/lib/python3.7/dist-packages (from towhee) (0.3.1)\n",
            "Requirement already satisfied: numpy in /usr/local/lib/python3.7/dist-packages (from towhee) (1.21.6)\n",
            "Requirement already satisfied: ruamel.yaml<=0.16.6 in /usr/local/lib/python3.7/dist-packages (from towhee) (0.16.6)\n",
            "Requirement already satisfied: certifi>=2017.4.17 in /usr/local/lib/python3.7/dist-packages (from requests>=2.12.5->towhee) (2022.6.15)\n",
            "Requirement already satisfied: urllib3!=1.25.0,!=1.25.1,<1.26,>=1.21.1 in /usr/local/lib/python3.7/dist-packages (from requests>=2.12.5->towhee) (1.24.3)\n",
            "Requirement already satisfied: idna<3,>=2.5 in /usr/local/lib/python3.7/dist-packages (from requests>=2.12.5->towhee) (2.10)\n",
            "Requirement already satisfied: chardet<4,>=3.0.2 in /usr/local/lib/python3.7/dist-packages (from requests>=2.12.5->towhee) (3.0.4)\n",
            "Requirement already satisfied: ruamel.yaml.clib>=0.1.2 in /usr/local/lib/python3.7/dist-packages (from ruamel.yaml<=0.16.6->towhee) (0.2.6)\n",
            "Requirement already satisfied: cached-property in /usr/local/lib/python3.7/dist-packages (from pygit2->towhee) (1.5.2)\n",
            "Requirement already satisfied: cffi>=1.9.1 in /usr/local/lib/python3.7/dist-packages (from pygit2->towhee) (1.15.1)\n",
            "Requirement already satisfied: pycparser in /usr/local/lib/python3.7/dist-packages (from cffi>=1.9.1->pygit2->towhee) (2.21)\n",
            "Looking in indexes: https://pypi.org/simple, https://us-python.pkg.dev/colab-wheels/public/simple/\n",
            "Requirement already satisfied: towhee.models in /usr/local/lib/python3.7/dist-packages (0.8.0)\n",
            "Requirement already satisfied: pygit2 in /usr/local/lib/python3.7/dist-packages (from towhee.models) (1.10.0)\n",
            "Requirement already satisfied: requests>=2.12.5 in /usr/local/lib/python3.7/dist-packages (from towhee.models) (2.23.0)\n",
            "Requirement already satisfied: pgzip in /usr/local/lib/python3.7/dist-packages (from towhee.models) (0.3.1)\n",
            "Requirement already satisfied: numpy in /usr/local/lib/python3.7/dist-packages (from towhee.models) (1.21.6)\n",
            "Requirement already satisfied: ruamel.yaml<=0.16.6 in /usr/local/lib/python3.7/dist-packages (from towhee.models) (0.16.6)\n",
            "Requirement already satisfied: tabulate in /usr/local/lib/python3.7/dist-packages (from towhee.models) (0.8.10)\n",
            "Requirement already satisfied: tqdm>=4.59.0 in /usr/local/lib/python3.7/dist-packages (from towhee.models) (4.64.0)\n",
            "Requirement already satisfied: idna<3,>=2.5 in /usr/local/lib/python3.7/dist-packages (from requests>=2.12.5->towhee.models) (2.10)\n",
            "Requirement already satisfied: certifi>=2017.4.17 in /usr/local/lib/python3.7/dist-packages (from requests>=2.12.5->towhee.models) (2022.6.15)\n",
            "Requirement already satisfied: urllib3!=1.25.0,!=1.25.1,<1.26,>=1.21.1 in /usr/local/lib/python3.7/dist-packages (from requests>=2.12.5->towhee.models) (1.24.3)\n",
            "Requirement already satisfied: chardet<4,>=3.0.2 in /usr/local/lib/python3.7/dist-packages (from requests>=2.12.5->towhee.models) (3.0.4)\n",
            "Requirement already satisfied: ruamel.yaml.clib>=0.1.2 in /usr/local/lib/python3.7/dist-packages (from ruamel.yaml<=0.16.6->towhee.models) (0.2.6)\n",
            "Requirement already satisfied: cffi>=1.9.1 in /usr/local/lib/python3.7/dist-packages (from pygit2->towhee.models) (1.15.1)\n",
            "Requirement already satisfied: cached-property in /usr/local/lib/python3.7/dist-packages (from pygit2->towhee.models) (1.5.2)\n",
            "Requirement already satisfied: pycparser in /usr/local/lib/python3.7/dist-packages (from cffi>=1.9.1->pygit2->towhee.models) (2.21)\n",
            "Looking in indexes: https://pypi.org/simple, https://us-python.pkg.dev/colab-wheels/public/simple/\n",
            "Requirement already satisfied: timm==0.5.4 in /usr/local/lib/python3.7/dist-packages (0.5.4)\n",
            "Requirement already satisfied: torch>=1.4 in /usr/local/lib/python3.7/dist-packages (from timm==0.5.4) (1.12.1+cu113)\n",
            "Requirement already satisfied: torchvision in /usr/local/lib/python3.7/dist-packages (from timm==0.5.4) (0.13.1+cu113)\n",
            "Requirement already satisfied: typing-extensions in /usr/local/lib/python3.7/dist-packages (from torch>=1.4->timm==0.5.4) (4.1.1)\n",
            "Requirement already satisfied: pillow!=8.3.*,>=5.3.0 in /usr/local/lib/python3.7/dist-packages (from torchvision->timm==0.5.4) (8.0.1)\n",
            "Requirement already satisfied: requests in /usr/local/lib/python3.7/dist-packages (from torchvision->timm==0.5.4) (2.23.0)\n",
            "Requirement already satisfied: numpy in /usr/local/lib/python3.7/dist-packages (from torchvision->timm==0.5.4) (1.21.6)\n",
            "Requirement already satisfied: certifi>=2017.4.17 in /usr/local/lib/python3.7/dist-packages (from requests->torchvision->timm==0.5.4) (2022.6.15)\n",
            "Requirement already satisfied: urllib3!=1.25.0,!=1.25.1,<1.26,>=1.21.1 in /usr/local/lib/python3.7/dist-packages (from requests->torchvision->timm==0.5.4) (1.24.3)\n",
            "Requirement already satisfied: idna<3,>=2.5 in /usr/local/lib/python3.7/dist-packages (from requests->torchvision->timm==0.5.4) (2.10)\n",
            "Requirement already satisfied: chardet<4,>=3.0.2 in /usr/local/lib/python3.7/dist-packages (from requests->torchvision->timm==0.5.4) (3.0.4)\n",
            "Looking in indexes: https://pypi.org/simple, https://us-python.pkg.dev/colab-wheels/public/simple/\n",
            "Requirement already satisfied: Pillow==8.0.1 in /usr/local/lib/python3.7/dist-packages (8.0.1)\n"
          ]
        }
      ],
      "source": [
        "!pip3 install -U towhee  \n",
        "!pip3 install -U towhee.models\n",
        "!pip install timm==0.5.4\n",
        "!pip install Pillow==8.0.1"
      ]
    },
    {
      "cell_type": "code",
      "source": [
        "# May need to reupload if link is expired\n",
        "!wget https://transfer.sh/get/RUl4ko/dataset.zip\n",
        "!unzip dataset.zip\n",
        "\n",
        "NFT_DATASET_PATH = \"./NFT Metrics Dataset/\""
      ],
      "metadata": {
        "id": "OvtKgiK0GjNo"
      },
      "execution_count": 3,
      "outputs": []
    },
    {
      "cell_type": "markdown",
      "source": [
        "## ViT Large"
      ],
      "metadata": {
        "id": "QXTwauuzIW9S"
      }
    },
    {
      "cell_type": "code",
      "source": [
        "from towhee import pipeline\n",
        "embedding_pipeline = pipeline('towhee/image-embedding-vitlarge')\n",
        "source_image_embedding = embedding_pipeline(NFT_DATASET_PATH + \"source_image.jpg\")\n",
        "\n",
        "print(source_image_embedding)"
      ],
      "metadata": {
        "colab": {
          "base_uri": "https://localhost:8080/"
        },
        "id": "EWpnsCp3IObT",
        "outputId": "f0f6b1f2-103d-4b7f-ac1c-975390bb8094"
      },
      "execution_count": 9,
      "outputs": [
        {
          "output_type": "stream",
          "name": "stdout",
          "text": [
            "Cloning the repo: towhee/image-embedding-vitlarge... Be patient and waiting printing 'Successfully'.\n",
            "Successfully clone the repo: towhee/image-embedding-vitlarge.\n",
            "Cloning the repo: towhee/vit-image-embedding... Be patient and waiting printing 'Successfully'.\n",
            "Successfully clone the repo: towhee/vit-image-embedding.\n",
            "[-1.1906329  -2.083327    2.8045058  ... -5.770291   -0.26714215\n",
            "  2.997338  ]\n"
          ]
        }
      ]
    },
    {
      "cell_type": "code",
      "source": [
        "# Within Collection NFTs\n",
        "import numpy as np \n",
        "from scipy import spatial\n",
        "\n",
        "euclideanDistance = 0\n",
        "dotProductDistance = 0\n",
        "cosineDistance = 0\n",
        "for i in range(1, 51):\n",
        "  image_path = NFT_DATASET_PATH + \"Within Collection/\" + str(i) + \".jpg\"\n",
        "  image_embedding = embedding_pipeline(image_path)\n",
        "  \n",
        "  euclideanDistance += abs(np.linalg.norm(source_image_embedding-image_embedding))\n",
        "  dotProductDistance += np.dot(source_image_embedding, image_embedding)\n",
        "  cosineDistance += spatial.distance.cosine(source_image_embedding, image_embedding)\n",
        "\n",
        "print(\"Average Euclidean Distance: \", str(euclideanDistance / 50))\n",
        "print(\"Average Dot Product Distance: \", str(dotProductDistance / 50))\n",
        "print(\"Average Cosine Distance: \", str(cosineDistance / 50))"
      ],
      "metadata": {
        "colab": {
          "base_uri": "https://localhost:8080/"
        },
        "id": "Qyj9BIRZJHdz",
        "outputId": "a22f9b11-feb7-4c81-bb7e-6768d14a55f7"
      },
      "execution_count": 14,
      "outputs": [
        {
          "output_type": "stream",
          "name": "stdout",
          "text": [
            "Average Euclidean Distance:  66.64356773376466\n",
            "Average Dot Product Distance:  5088.19232421875\n",
            "Average Cosine Distance:  0.3053572201728821\n"
          ]
        }
      ]
    },
    {
      "cell_type": "code",
      "source": [
        "# Outside Collection NFTs\n",
        "\n",
        "euclideanDistance = 0\n",
        "dotProductDistance = 0\n",
        "cosineSimilarityDistance = 0\n",
        "\n",
        "for i in range(1, 51):\n",
        "  image_path = NFT_DATASET_PATH + \"Outside Collection/\" + str(i) + \".jpg\"\n",
        "  image_embedding = embedding_pipeline(image_path)\n",
        "  \n",
        "  euclideanDistance += abs(np.linalg.norm(source_image_embedding-image_embedding))\n",
        "  dotProductDistance += np.dot(source_image_embedding, image_embedding)\n",
        "  cosineDistance += spatial.distance.cosine(source_image_embedding, image_embedding)\n",
        "\n",
        "print(\"Average Euclidean Distance: \", str(euclideanDistance / 50))\n",
        "print(\"Average Dot Product Distance: \", str(dotProductDistance / 50))\n",
        "print(\"Average Cosine Distance: \", str(cosineDistance / 50))"
      ],
      "metadata": {
        "colab": {
          "base_uri": "https://localhost:8080/"
        },
        "id": "mhpiZJ8HK8Zv",
        "outputId": "6df8f571-90a2-4e02-a49f-56138ae6de6f"
      },
      "execution_count": 15,
      "outputs": [
        {
          "output_type": "stream",
          "name": "stdout",
          "text": [
            "Average Euclidean Distance:  90.93218521118165\n",
            "Average Dot Product Distance:  3338.5537255859376\n",
            "Average Cosine Distance:  0.8590697968006134\n"
          ]
        }
      ]
    },
    {
      "cell_type": "markdown",
      "source": [
        "## EfficientNet-B5 "
      ],
      "metadata": {
        "id": "3RVztyhVOQ49"
      }
    },
    {
      "cell_type": "code",
      "source": [
        "from towhee import pipeline\n",
        "embedding_pipeline = pipeline('towhee/image-embedding-efficientnetb5')\n",
        "source_image_embedding = embedding_pipeline(NFT_DATASET_PATH + \"source_image.jpg\")\n",
        "\n",
        "print(source_image_embedding)"
      ],
      "metadata": {
        "colab": {
          "base_uri": "https://localhost:8080/"
        },
        "id": "VFfY7wuqOTlG",
        "outputId": "9ea82b3f-143f-48ec-a757-98896134edde"
      },
      "execution_count": 5,
      "outputs": [
        {
          "output_type": "stream",
          "name": "stdout",
          "text": [
            "[-0.0844001  -0.00809001  0.23754928 ...  0.24487253  0.24335758\n",
            " -0.20357141]\n"
          ]
        }
      ]
    },
    {
      "cell_type": "code",
      "source": [
        "# Within Collection NFTs\n",
        "import numpy as np \n",
        "from scipy import spatial\n",
        "\n",
        "euclideanDistance = 0\n",
        "dotProductDistance = 0\n",
        "cosineDistance = 0\n",
        "for i in range(1, 51):\n",
        "  image_path = NFT_DATASET_PATH + \"Within Collection/\" + str(i) + \".jpg\"\n",
        "  image_embedding = embedding_pipeline(image_path)\n",
        "  \n",
        "  euclideanDistance += abs(np.linalg.norm(source_image_embedding-image_embedding))\n",
        "  dotProductDistance += np.dot(source_image_embedding, image_embedding)\n",
        "  cosineDistance += spatial.distance.cosine(source_image_embedding, image_embedding)\n",
        "\n",
        "print(\"Average Euclidean Distance: \", str(euclideanDistance / 50))\n",
        "print(\"Average Dot Product Distance: \", str(dotProductDistance / 50))\n",
        "print(\"Average Cosine Distance: \", str(cosineDistance / 50))"
      ],
      "metadata": {
        "colab": {
          "base_uri": "https://localhost:8080/"
        },
        "id": "fry0w3dBOd_-",
        "outputId": "0ea33633-99d2-48fa-edfc-f4078af3ce32"
      },
      "execution_count": 6,
      "outputs": [
        {
          "output_type": "stream",
          "name": "stdout",
          "text": [
            "Average Euclidean Distance:  11.417256412506104\n",
            "Average Dot Product Distance:  73.9785255432129\n",
            "Average Cosine Distance:  0.4662560909986496\n"
          ]
        }
      ]
    },
    {
      "cell_type": "code",
      "source": [
        "# Outside Collection NFTs\n",
        "\n",
        "euclideanDistance = 0\n",
        "dotProductDistance = 0\n",
        "cosineSimilarityDistance = 0\n",
        "\n",
        "for i in range(1, 51):\n",
        "  image_path = NFT_DATASET_PATH + \"Outside Collection/\" + str(i) + \".jpg\"\n",
        "  image_embedding = embedding_pipeline(image_path)\n",
        "  \n",
        "  euclideanDistance += abs(np.linalg.norm(source_image_embedding-image_embedding))\n",
        "  dotProductDistance += np.dot(source_image_embedding, image_embedding)\n",
        "  cosineDistance += spatial.distance.cosine(source_image_embedding, image_embedding)\n",
        "\n",
        "print(\"Average Euclidean Distance: \", str(euclideanDistance / 50))\n",
        "print(\"Average Dot Product Distance: \", str(dotProductDistance / 50))\n",
        "print(\"Average Cosine Distance: \", str(cosineDistance / 50))"
      ],
      "metadata": {
        "colab": {
          "base_uri": "https://localhost:8080/"
        },
        "id": "BPVyKZAiOg_6",
        "outputId": "e9a5eb1b-bb47-489c-f317-bc42068f919a"
      },
      "execution_count": 7,
      "outputs": [
        {
          "output_type": "stream",
          "name": "stdout",
          "text": [
            "Average Euclidean Distance:  13.918194332122802\n",
            "Average Dot Product Distance:  27.506559257507323\n",
            "Average Cosine Distance:  1.2400550255179406\n"
          ]
        }
      ]
    },
    {
      "cell_type": "markdown",
      "source": [
        "## ResNet-50"
      ],
      "metadata": {
        "id": "Rvfp_g6wO-3O"
      }
    },
    {
      "cell_type": "code",
      "source": [
        "from towhee import pipeline\n",
        "embedding_pipeline = pipeline('towhee/image-embedding-resnet50')\n",
        "source_image_embedding = embedding_pipeline(NFT_DATASET_PATH + \"source_image.jpg\")\n",
        "\n",
        "print(source_image_embedding)"
      ],
      "metadata": {
        "colab": {
          "base_uri": "https://localhost:8080/"
        },
        "id": "XRJdQeXgPC1A",
        "outputId": "35f5ef64-159e-49be-dced-bdc9632086cf"
      },
      "execution_count": 8,
      "outputs": [
        {
          "output_type": "stream",
          "name": "stdout",
          "text": [
            "[0.11256623 0.1306531  0.         ... 0.         0.00791989 0.11021551]\n"
          ]
        }
      ]
    },
    {
      "cell_type": "code",
      "source": [
        "# Within Collection NFTs\n",
        "import numpy as np \n",
        "from scipy import spatial\n",
        "\n",
        "euclideanDistance = 0\n",
        "dotProductDistance = 0\n",
        "cosineDistance = 0\n",
        "for i in range(1, 51):\n",
        "  image_path = NFT_DATASET_PATH + \"Within Collection/\" + str(i) + \".jpg\"\n",
        "  image_embedding = embedding_pipeline(image_path)\n",
        "  \n",
        "  euclideanDistance += abs(np.linalg.norm(source_image_embedding-image_embedding))\n",
        "  dotProductDistance += np.dot(source_image_embedding, image_embedding)\n",
        "  cosineDistance += spatial.distance.cosine(source_image_embedding, image_embedding)\n",
        "\n",
        "print(\"Average Euclidean Distance: \", str(euclideanDistance / 50))\n",
        "print(\"Average Dot Product Distance: \", str(dotProductDistance / 50))\n",
        "print(\"Average Cosine Distance: \", str(cosineDistance / 50))"
      ],
      "metadata": {
        "colab": {
          "base_uri": "https://localhost:8080/"
        },
        "id": "qs_auByePHOg",
        "outputId": "aa51f345-f86a-4191-a72d-1b7fc83e4c9e"
      },
      "execution_count": 9,
      "outputs": [
        {
          "output_type": "stream",
          "name": "stdout",
          "text": [
            "Average Euclidean Distance:  5.1873391914367675\n",
            "Average Dot Product Distance:  41.15225326538086\n",
            "Average Cosine Distance:  0.24260329961776733\n"
          ]
        }
      ]
    },
    {
      "cell_type": "code",
      "source": [
        "# Outside Collection NFTs\n",
        "\n",
        "euclideanDistance = 0\n",
        "dotProductDistance = 0\n",
        "cosineSimilarityDistance = 0\n",
        "\n",
        "for i in range(1, 51):\n",
        "  image_path = NFT_DATASET_PATH + \"Outside Collection/\" + str(i) + \".jpg\"\n",
        "  image_embedding = embedding_pipeline(image_path)\n",
        "  \n",
        "  euclideanDistance += abs(np.linalg.norm(source_image_embedding-image_embedding))\n",
        "  dotProductDistance += np.dot(source_image_embedding, image_embedding)\n",
        "  cosineDistance += spatial.distance.cosine(source_image_embedding, image_embedding)\n",
        "\n",
        "print(\"Average Euclidean Distance: \", str(euclideanDistance / 50))\n",
        "print(\"Average Dot Product Distance: \", str(dotProductDistance / 50))\n",
        "print(\"Average Cosine Distance: \", str(cosineDistance / 50))"
      ],
      "metadata": {
        "colab": {
          "base_uri": "https://localhost:8080/"
        },
        "id": "ZBuAqANRPH4g",
        "outputId": "8571d4ce-dc3b-4daf-818f-4d907e798d3d"
      },
      "execution_count": 10,
      "outputs": [
        {
          "output_type": "stream",
          "name": "stdout",
          "text": [
            "Average Euclidean Distance:  6.783402423858643\n",
            "Average Dot Product Distance:  22.858655891418458\n",
            "Average Cosine Distance:  0.724301187992096\n"
          ]
        }
      ]
    },
    {
      "cell_type": "markdown",
      "source": [
        "## RegNetY-080"
      ],
      "metadata": {
        "id": "1MuQlnEoPJdC"
      }
    },
    {
      "cell_type": "code",
      "source": [
        "from towhee import pipeline\n",
        "embedding_pipeline = pipeline('towhee/image-embedding-regnety-080')\n",
        "source_image_embedding = embedding_pipeline(NFT_DATASET_PATH + \"source_image.jpg\")\n",
        "\n",
        "print(source_image_embedding)"
      ],
      "metadata": {
        "colab": {
          "base_uri": "https://localhost:8080/"
        },
        "id": "xBPD7ynIPLhQ",
        "outputId": "65b25001-c82c-459c-f429-d8f1697f7e7d"
      },
      "execution_count": 18,
      "outputs": [
        {
          "output_type": "stream",
          "name": "stdout",
          "text": [
            "[0.29651052 2.7416341  1.9153777  ... 0.47359887 1.5584838  0.6012759 ]\n"
          ]
        }
      ]
    },
    {
      "cell_type": "code",
      "source": [
        "# Within Collection NFTs\n",
        "import numpy as np \n",
        "from scipy import spatial\n",
        "\n",
        "euclideanDistance = 0\n",
        "dotProductDistance = 0\n",
        "cosineDistance = 0\n",
        "for i in range(1, 51):\n",
        "  image_path = NFT_DATASET_PATH + \"Within Collection/\" + str(i) + \".jpg\"\n",
        "  image_embedding = embedding_pipeline(image_path)\n",
        "  \n",
        "  euclideanDistance += abs(np.linalg.norm(source_image_embedding-image_embedding))\n",
        "  dotProductDistance += np.dot(source_image_embedding, image_embedding)\n",
        "  cosineDistance += spatial.distance.cosine(source_image_embedding, image_embedding)\n",
        "\n",
        "print(\"Average Euclidean Distance: \", str(euclideanDistance / 50))\n",
        "print(\"Average Dot Product Distance: \", str(dotProductDistance / 50))\n",
        "print(\"Average Cosine Distance: \", str(cosineDistance / 50))"
      ],
      "metadata": {
        "colab": {
          "base_uri": "https://localhost:8080/"
        },
        "id": "s-tVfTRNPQt8",
        "outputId": "f1e3c22c-0aa2-41af-a56a-e4c69a0c986d"
      },
      "execution_count": 12,
      "outputs": [
        {
          "output_type": "stream",
          "name": "stdout",
          "text": [
            "Average Euclidean Distance:  17.20503988265991\n",
            "Average Dot Product Distance:  928.9426831054687\n",
            "Average Cosine Distance:  0.1341628122329712\n"
          ]
        }
      ]
    },
    {
      "cell_type": "code",
      "source": [
        "# Outside Collection NFTs\n",
        "\n",
        "euclideanDistance = 0\n",
        "dotProductDistance = 0\n",
        "cosineSimilarityDistance = 0\n",
        "\n",
        "for i in range(1, 51):\n",
        "  image_path = NFT_DATASET_PATH + \"Outside Collection/\" + str(i) + \".jpg\"\n",
        "  image_embedding = embedding_pipeline(image_path)\n",
        "  \n",
        "  euclideanDistance += abs(np.linalg.norm(source_image_embedding-image_embedding))\n",
        "  dotProductDistance += np.dot(source_image_embedding, image_embedding)\n",
        "  cosineDistance += spatial.distance.cosine(source_image_embedding, image_embedding)\n",
        "\n",
        "print(\"Average Euclidean Distance: \", str(euclideanDistance / 50))\n",
        "print(\"Average Dot Product Distance: \", str(dotProductDistance / 50))\n",
        "print(\"Average Cosine Distance: \", str(cosineDistance / 50))"
      ],
      "metadata": {
        "colab": {
          "base_uri": "https://localhost:8080/"
        },
        "id": "Tztf3_nQPScg",
        "outputId": "d48306a5-501c-4d38-a444-b2cfbd514e18"
      },
      "execution_count": 13,
      "outputs": [
        {
          "output_type": "stream",
          "name": "stdout",
          "text": [
            "Average Euclidean Distance:  24.01218048095703\n",
            "Average Dot Product Distance:  783.930146484375\n",
            "Average Cosine Distance:  0.4007207655906677\n"
          ]
        }
      ]
    },
    {
      "cell_type": "markdown",
      "source": [
        "## Convnext Large"
      ],
      "metadata": {
        "id": "hTtlcuXoPS_p"
      }
    },
    {
      "cell_type": "code",
      "source": [
        "from towhee import pipeline\n",
        "embedding_pipeline = pipeline('towhee/image-embedding-convnext-large')\n",
        "source_image_embedding = embedding_pipeline(NFT_DATASET_PATH + \"source_image.jpg\")\n",
        "\n",
        "print(source_image_embedding)"
      ],
      "metadata": {
        "colab": {
          "base_uri": "https://localhost:8080/"
        },
        "id": "6mpLMgECPU1Y",
        "outputId": "577d2f25-1b15-417a-bd41-7c984117043a"
      },
      "execution_count": 14,
      "outputs": [
        {
          "output_type": "stream",
          "name": "stdout",
          "text": [
            "Cloning the repo: towhee/image-embedding-convnext-large... Be patient and waiting printing 'Successfully'.\n",
            "Successfully clone the repo: towhee/image-embedding-convnext-large.\n"
          ]
        },
        {
          "output_type": "stream",
          "name": "stderr",
          "text": [
            "Downloading: \"https://dl.fbaipublicfiles.com/convnext/convnext_large_1k_224_ema.pth\" to /root/.cache/torch/hub/checkpoints/convnext_large_1k_224_ema.pth\n"
          ]
        },
        {
          "output_type": "stream",
          "name": "stdout",
          "text": [
            "[ 1.6512845  -0.04293751 -0.84880626 ... -0.09254981  0.72363305\n",
            "  1.3006148 ]\n"
          ]
        }
      ]
    },
    {
      "cell_type": "code",
      "source": [
        "# Within Collection NFTs\n",
        "import numpy as np \n",
        "from scipy import spatial\n",
        "\n",
        "euclideanDistance = 0\n",
        "dotProductDistance = 0\n",
        "cosineDistance = 0\n",
        "for i in range(1, 51):\n",
        "  image_path = NFT_DATASET_PATH + \"Within Collection/\" + str(i) + \".jpg\"\n",
        "  image_embedding = embedding_pipeline(image_path)\n",
        "  \n",
        "  euclideanDistance += abs(np.linalg.norm(source_image_embedding-image_embedding))\n",
        "  dotProductDistance += np.dot(source_image_embedding, image_embedding)\n",
        "  cosineDistance += spatial.distance.cosine(source_image_embedding, image_embedding)\n",
        "\n",
        "print(\"Average Euclidean Distance: \", str(euclideanDistance / 50))\n",
        "print(\"Average Dot Product Distance: \", str(dotProductDistance / 50))\n",
        "print(\"Average Cosine Distance: \", str(cosineDistance / 50))"
      ],
      "metadata": {
        "colab": {
          "base_uri": "https://localhost:8080/"
        },
        "id": "if7FcrakPaKx",
        "outputId": "ceb581cd-e5cf-489a-88b2-5a0b9324833b"
      },
      "execution_count": 15,
      "outputs": [
        {
          "output_type": "stream",
          "name": "stdout",
          "text": [
            "Average Euclidean Distance:  52.831450881958006\n",
            "Average Dot Product Distance:  7205.9359521484375\n",
            "Average Cosine Distance:  0.1683798450231552\n"
          ]
        }
      ]
    },
    {
      "cell_type": "code",
      "source": [
        "# Outside Collection NFTs\n",
        "\n",
        "euclideanDistance = 0\n",
        "dotProductDistance = 0\n",
        "cosineSimilarityDistance = 0\n",
        "\n",
        "for i in range(1, 51):\n",
        "  image_path = NFT_DATASET_PATH + \"Outside Collection/\" + str(i) + \".jpg\"\n",
        "  image_embedding = embedding_pipeline(image_path)\n",
        "  \n",
        "  euclideanDistance += abs(np.linalg.norm(source_image_embedding-image_embedding))\n",
        "  dotProductDistance += np.dot(source_image_embedding, image_embedding)\n",
        "  cosineDistance += spatial.distance.cosine(source_image_embedding, image_embedding)\n",
        "\n",
        "print(\"Average Euclidean Distance: \", str(euclideanDistance / 50))\n",
        "print(\"Average Dot Product Distance: \", str(dotProductDistance / 50))\n",
        "print(\"Average Cosine Distance: \", str(cosineDistance / 50))"
      ],
      "metadata": {
        "colab": {
          "base_uri": "https://localhost:8080/"
        },
        "id": "QEC1Ohq_Pag-",
        "outputId": "92f5225c-89d7-4932-94c4-74772c96310c"
      },
      "execution_count": 16,
      "outputs": [
        {
          "output_type": "stream",
          "name": "stdout",
          "text": [
            "Average Euclidean Distance:  61.57903861999512\n",
            "Average Dot Product Distance:  6533.806943359375\n",
            "Average Cosine Distance:  0.396960386633873\n"
          ]
        }
      ]
    }
  ]
}